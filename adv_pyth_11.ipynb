{
 "cells": [
  {
   "cell_type": "markdown",
   "id": "5f7ff298",
   "metadata": {},
   "source": [
    "# 1."
   ]
  },
  {
   "cell_type": "code",
   "execution_count": 1,
   "id": "0843fffb",
   "metadata": {},
   "outputs": [],
   "source": [
    "# 1. A metaclass in Python is a class used to create classes. In other words, a metaclass is a class of a class. \n",
    "# 2. It defines how classes themselves are created and behave. Metaclasses are often used for advanced customization and \n",
    "# metaprogramming tasks.\n",
    "\n",
    "# example:\n",
    "class MyMeta(type):\n",
    "    def __new__(cls, name, bases, dct):\n",
    "        # Custom class creation logic here\n",
    "        return super().__new__(cls, name, bases, dct)\n",
    "\n",
    "class MyClass(metaclass=MyMeta):\n",
    "    pass"
   ]
  },
  {
   "cell_type": "markdown",
   "id": "02cd027c",
   "metadata": {},
   "source": [
    "# 2."
   ]
  },
  {
   "cell_type": "code",
   "execution_count": 2,
   "id": "da9fa514",
   "metadata": {},
   "outputs": [],
   "source": [
    "# The best way to declare a class's metaclass in Python depends on your specific use case and requirements. There are different \n",
    "# approaches you can take, each with its own implications and flexibility. \n",
    "\n",
    "# Here are the common ways to declare a class's metaclass:\n",
    "\n",
    "# a) Using metaclass Argument:\n",
    "class MyClass(metaclass=MyMeta):\n",
    "    pass"
   ]
  },
  {
   "cell_type": "code",
   "execution_count": 3,
   "id": "d8835056",
   "metadata": {},
   "outputs": [],
   "source": [
    "# b) Defining __metaclass__ Attribute:\n",
    "class MyClass:\n",
    "    __metaclass__ = MyMeta\n",
    "    pass"
   ]
  },
  {
   "cell_type": "code",
   "execution_count": 4,
   "id": "529ddf13",
   "metadata": {},
   "outputs": [],
   "source": [
    "# c) Inheriting from a Metaclass:\n",
    "class MyMeta(type):\n",
    "    pass\n",
    "\n",
    "class MyClass(MyMeta):\n",
    "    pass"
   ]
  },
  {
   "cell_type": "code",
   "execution_count": 5,
   "id": "4684f930",
   "metadata": {},
   "outputs": [],
   "source": [
    "# d) Using Decorators:\n",
    "# In Python 3.6 and later, you can use the @classmethod decorator to specify a metaclass:\n",
    "@classmethod\n",
    "def __class_getitem__(cls, params):\n",
    "    pass\n",
    "\n",
    "class MyClass:\n",
    "    ...\n",
    "MyClass = MyMeta(__name__, (MyClass,), {})"
   ]
  },
  {
   "cell_type": "markdown",
   "id": "b4c9ebad",
   "metadata": {},
   "source": [
    "# 3."
   ]
  },
  {
   "cell_type": "code",
   "execution_count": 6,
   "id": "34870fcb",
   "metadata": {},
   "outputs": [
    {
     "name": "stdout",
     "output_type": "stream",
     "text": [
      "Added by decorator\n"
     ]
    }
   ],
   "source": [
    "# Class decorators and metaclasses are both mechanisms in Python used for handling classes and their behavior. While they serve\n",
    "# similar purposes in some aspects, they have different roles and mechanisms of operation.\n",
    "\n",
    "# a) Class Decorators:\n",
    "\n",
    "# 1. Purpose: Class decorators are functions that modify or enhance the behavior of a class. They allow you to add\n",
    "#     functionalities to a class without changing its structure.\n",
    "# 2. Application: You can use class decorators to add methods, properties, or attributes to a class, perform validation \n",
    "#     checks on class definitions, or apply certain behaviors to multiple classes.\n",
    "    \n",
    "# example:\n",
    "def my_decorator(cls):\n",
    "    cls.new_attr = \"Added by decorator\"\n",
    "    return cls\n",
    "\n",
    "@my_decorator\n",
    "class MyClass:\n",
    "    pass\n",
    "\n",
    "obj = MyClass()\n",
    "print(obj.new_attr)  # Output: Added by decorator"
   ]
  },
  {
   "cell_type": "code",
   "execution_count": 8,
   "id": "f8afa796",
   "metadata": {},
   "outputs": [
    {
     "name": "stdout",
     "output_type": "stream",
     "text": [
      "Added by metaclass\n"
     ]
    }
   ],
   "source": [
    "# b) Metaclasses:\n",
    "\n",
    "# 1. Purpose: Metaclasses are a higher-level concept in Python that allows you to customize class creation. They define the \n",
    "#     behavior of classes and how they are instantiated, similar to how classes define the behavior of instances.\n",
    "# 2. Application: Metaclasses are useful for creating frameworks, enforcing design patterns, performing class-level validations,\n",
    "#     or implementing custom class behaviors.\n",
    "    \n",
    "# example:\n",
    "class MyMeta(type):\n",
    "    def __new__(cls, name, bases, dct):\n",
    "        dct['new_attr'] = \"Added by metaclass\"\n",
    "        return super().__new__(cls, name, bases, dct)\n",
    "\n",
    "class MyClass(metaclass=MyMeta):\n",
    "    pass\n",
    "\n",
    "obj = MyClass()\n",
    "print(obj.new_attr)  # Output: Added by metaclass"
   ]
  },
  {
   "cell_type": "code",
   "execution_count": null,
   "id": "313f1442",
   "metadata": {},
   "outputs": [],
   "source": [
    "# c) Overlap and Relationship:\n",
    "\n",
    "# 1. Class decorators and metaclasses can complement each other in certain scenarios. For example, you can use a class decorator\n",
    "#     to modify the behavior of a class created with a metaclass. This allows for a more flexible and modular approach to class\n",
    "#     customization.\n",
    "# 2. Both mechanisms provide ways to extend or modify class functionality, but they operate at different stages of class creation.\n",
    "#     Class decorators act on the class after it is defined, while metaclasses are involved in the actual creation of the class.\n",
    "# 3. In some cases, you may choose one approach over the other based on the complexity of the customization needed and the level\n",
    "#     of control required over class creation and behavior."
   ]
  },
  {
   "cell_type": "markdown",
   "id": "0a41534a",
   "metadata": {},
   "source": [
    "# 4."
   ]
  },
  {
   "cell_type": "code",
   "execution_count": 10,
   "id": "b9aabc68",
   "metadata": {},
   "outputs": [
    {
     "name": "stdout",
     "output_type": "stream",
     "text": [
      "Hello, Alice!\n"
     ]
    }
   ],
   "source": [
    "# Class decorators and metaclasses are two powerful Python features that can be used to customize the behavior of classes and instances. While they have different roles and mechanisms, they can both influence the behavior of instances to some extent.\n",
    "\n",
    "# Here's how class decorators and metaclasses overlap in handling instances:\n",
    "\n",
    "# a)Class Decorators for Instances:\n",
    "\n",
    "# 1. Class decorators primarily operate on classes, but they can indirectly affect instances through class-level modifications.\n",
    "# 2. You can use class decorators to add instance methods, properties, or attributes to a class, which will then be available \n",
    "#     to instances of that class.\n",
    "    \n",
    "# example:\n",
    "def add_method(cls):\n",
    "    def hello(self):\n",
    "        return f\"Hello, {self.name}!\"\n",
    "    cls.say_hello = hello  # Adding instance method\n",
    "    return cls\n",
    "\n",
    "@add_method\n",
    "class MyClass:\n",
    "    def __init__(self, name):\n",
    "        self.name = name\n",
    "\n",
    "obj = MyClass(\"Alice\")\n",
    "print(obj.say_hello())  # Output: Hello, Alice!"
   ]
  },
  {
   "cell_type": "code",
   "execution_count": 11,
   "id": "9a7ba198",
   "metadata": {},
   "outputs": [
    {
     "name": "stdout",
     "output_type": "stream",
     "text": [
      "Hello, Bob!\n"
     ]
    }
   ],
   "source": [
    "# b) Metaclasses for Instances:\n",
    "\n",
    "# 1. Metaclasses are more focused on class creation and behavior, but they can indirectly influence instance behavior by \n",
    "#     defining how classes are constructed.\n",
    "# 2. Metaclasses can intercept instance creation (__new__ and __init__ methods) and customize instance initialization or behavior.\n",
    "\n",
    "# example:\n",
    "class MyMeta(type):\n",
    "    def __new__(cls, name, bases, dct):\n",
    "        if 'say_hello' not in dct:\n",
    "            def hello(self):\n",
    "                return f\"Hello, {self.name}!\"\n",
    "            dct['say_hello'] = hello  # Adding instance method\n",
    "        return super().__new__(cls, name, bases, dct)\n",
    "\n",
    "class MyClass(metaclass=MyMeta):\n",
    "    def __init__(self, name):\n",
    "        self.name = name\n",
    "\n",
    "obj = MyClass(\"Bob\")\n",
    "print(obj.say_hello())  # Output: Hello, Bob!"
   ]
  },
  {
   "cell_type": "code",
   "execution_count": null,
   "id": "e6e38c02",
   "metadata": {},
   "outputs": [],
   "source": []
  }
 ],
 "metadata": {
  "kernelspec": {
   "display_name": "Python 3 (ipykernel)",
   "language": "python",
   "name": "python3"
  },
  "language_info": {
   "codemirror_mode": {
    "name": "ipython",
    "version": 3
   },
   "file_extension": ".py",
   "mimetype": "text/x-python",
   "name": "python",
   "nbconvert_exporter": "python",
   "pygments_lexer": "ipython3",
   "version": "3.11.5"
  }
 },
 "nbformat": 4,
 "nbformat_minor": 5
}
